{
 "cells": [
  {
   "cell_type": "code",
   "execution_count": 1,
   "id": "860768fd",
   "metadata": {},
   "outputs": [
    {
     "name": "stdout",
     "output_type": "stream",
     "text": [
      "Twinkle, twinkle, little star, \n",
      "\tHow I wonder what you are! \n",
      "\t\tUp above the world so high, \n",
      "\t\tLike a diamond in the sky. \n",
      "Twinkle, twinkle, little star, \n",
      "\tHow I wonder what you are!\n"
     ]
    }
   ],
   "source": [
    "## Question no.1\n",
    "## Write a Python program to print the following string in a specific format (see the  output)\n",
    "\n",
    "\n",
    "print(\"Twinkle, twinkle, little star, \\n\\tHow I wonder what you are! \\n\\t\\tUp above the world so high, \\n\\t\\tLike a diamond in the sky. \\nTwinkle, twinkle, little star, \\n\\tHow I wonder what you are!\")\n"
   ]
  },
  {
   "cell_type": "code",
   "execution_count": 2,
   "id": "3cc8c9ea",
   "metadata": {},
   "outputs": [
    {
     "name": "stdout",
     "output_type": "stream",
     "text": [
      "Python version\n",
      "3.8.8 (default, Apr 13 2021, 15:08:03) [MSC v.1916 64 bit (AMD64)]\n",
      "Version info.\n",
      "sys.version_info(major=3, minor=8, micro=8, releaselevel='final', serial=0)\n"
     ]
    }
   ],
   "source": [
    "## Question no.2\n",
    "## Write a Python program to get the Python version you are using\n",
    "\n",
    "import sys\n",
    "print(\"Python version\")\n",
    "print (sys.version)\n",
    "print(\"Version info.\")\n",
    "print (sys.version_info)\n"
   ]
  },
  {
   "cell_type": "code",
   "execution_count": 6,
   "id": "4755c578",
   "metadata": {},
   "outputs": [
    {
     "name": "stdout",
     "output_type": "stream",
     "text": [
      "Date and Time : \n",
      "2021-10-24 14:45:53\n"
     ]
    }
   ],
   "source": [
    "## Question no.3\n",
    "## Write a Python program to display the current date and time.\n",
    "\n",
    "import datetime\n",
    "now = datetime.datetime.now()\n",
    "print (\"Date and Time : \")\n",
    "print (now.strftime(\"%Y-%m-%d %H:%M:%S\"))\n"
   ]
  },
  {
   "cell_type": "code",
   "execution_count": 16,
   "id": "55004ca6",
   "metadata": {},
   "outputs": [
    {
     "name": "stdout",
     "output_type": "stream",
     "text": [
      "Type the radius of the circle : 57\n",
      "Area of the circle with radius 57.0 is: 10207.034531513238\n"
     ]
    }
   ],
   "source": [
    "## Question no.4\n",
    "## Write a Python program which accepts the radius of a circle from the user and compute  the area.\n",
    "\n",
    "from math import pi\n",
    "r = float(input (\"Type the radius of the circle : \"))\n",
    "print (\"Area of the circle with radius \" + str(r) + \" is: \" + str(pi * r**2))\n"
   ]
  },
  {
   "cell_type": "code",
   "execution_count": 17,
   "id": "279df8c2",
   "metadata": {},
   "outputs": [
    {
     "name": "stdout",
     "output_type": "stream",
     "text": [
      "Type your First Name : Alizain\n",
      "Type your Last Name : Faizal\n",
      "Faizal Alizain\n"
     ]
    }
   ],
   "source": [
    "## Question no.5\n",
    "## Write a Python program which accepts the user's first and last name and print them in  reverse order with a space between them\n",
    "\n",
    "firstname = input(\"Type your First Name : \")\n",
    "lastname = input(\"Type your Last Name : \")\n",
    "print ( lastname + \" \" + firstname)\n"
   ]
  },
  {
   "cell_type": "code",
   "execution_count": 2,
   "id": "48a44c63",
   "metadata": {},
   "outputs": [
    {
     "name": "stdout",
     "output_type": "stream",
     "text": [
      "Enter first number: 44\n",
      "Enter second number: 44\n",
      "The sum of 44 and 44 is: 88\n"
     ]
    }
   ],
   "source": [
    "## Question no.6\n",
    "## Write a python program which takes two inputs from user and print them addition \n",
    "\n",
    "number1 = input('Enter first number: ')\n",
    "number2 = input('Enter second number: ')\n",
    "sum = int(number1) + int(number2)\n",
    "print('The sum of {0} and {1} is: {2}'.format(number1, number2, sum))\n"
   ]
  }
 ],
 "metadata": {
  "kernelspec": {
   "display_name": "Python 3",
   "language": "python",
   "name": "python3"
  },
  "language_info": {
   "codemirror_mode": {
    "name": "ipython",
    "version": 3
   },
   "file_extension": ".py",
   "mimetype": "text/x-python",
   "name": "python",
   "nbconvert_exporter": "python",
   "pygments_lexer": "ipython3",
   "version": "3.8.8"
  }
 },
 "nbformat": 4,
 "nbformat_minor": 5
}
